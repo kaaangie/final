{
 "cells": [
  {
   "cell_type": "markdown",
   "id": "455dfe05-2ec2-4dd1-b302-d6d2a72b6821",
   "metadata": {},
   "source": [
    "'''\n",
    "# Data Science Tools and Ecosystem\n",
    "'''"
   ]
  },
  {
   "cell_type": "markdown",
   "id": "81690090-a6d7-4ee4-bb05-6f5c4cf8de46",
   "metadata": {},
   "source": [
    "'''\n",
    "In this notebook, Data Science Tools and Ecosystem are summarized.\n",
    "'''"
   ]
  },
  {
   "cell_type": "markdown",
   "id": "1d2f4eaa-bc97-402a-8aeb-65bf55baab44",
   "metadata": {},
   "source": [
    "'''\n",
    "**Objectives***\n",
    "\n",
    "-List of popular Data Science Languages\n",
    "\n",
    "-Commonly used Libraries in Data Science\n",
    "\n",
    "-Data Science Tools\n",
    "'''"
   ]
  },
  {
   "cell_type": "markdown",
   "id": "43c2ebdc-5076-4b06-9457-c7055cd37a16",
   "metadata": {},
   "source": [
    "'''\n",
    "Some of the popular languages that Data Scientists use are\n",
    "\n",
    "1. Python\n",
    "2. R\n",
    "3. SQL\n",
    "4. Scala\n",
    "'''"
   ]
  },
  {
   "cell_type": "markdown",
   "id": "33de2569-4be3-41a8-94cc-8ce7311b01f7",
   "metadata": {},
   "source": [
    "'''\n",
    "Some of the commonly used libraries used by Data Scientists included:\n",
    "\n",
    "- NumPy\n",
    "- Pandas\n",
    "- Matplotlib\n",
    "- TensorFlow\n",
    "'''"
   ]
  },
  {
   "cell_type": "markdown",
   "id": "8327b9b5-13c7-4de3-9255-de630260b1b7",
   "metadata": {},
   "source": [
    ",,,\n",
    "|Data Science Tools|\n",
    "|-----------------|\n",
    "|RStudio  |\n",
    "|Apache Spark  |\n",
    "|TensorFlow  |\n",
    "'''"
   ]
  },
  {
   "cell_type": "markdown",
   "id": "6065db5f-bab4-49a4-aec5-2cc33769c163",
   "metadata": {},
   "source": [
    "'''\n",
    "\n",
    "###Below are a few examples of evaluating arithmetic expressions in Python\n",
    "'''"
   ]
  },
  {
   "cell_type": "code",
   "execution_count": 8,
   "id": "b9b72354-dbb2-4f18-8a7f-58c323983d0c",
   "metadata": {},
   "outputs": [
    {
     "data": {
      "text/plain": [
       "'\\n#This is a simple arithmetic expression to multiply then add integers\\nresult = (3*4)+5\\nprint(results)\\n'"
      ]
     },
     "execution_count": 8,
     "metadata": {},
     "output_type": "execute_result"
    }
   ],
   "source": [
    "'''\n",
    "#This is a simple arithmetic expression to multiply then add integers\n",
    "result = (3*4)+5\n",
    "print(results)\n",
    "'''\n"
   ]
  },
  {
   "cell_type": "code",
   "execution_count": 6,
   "id": "183676e2-0e61-4838-8e5d-8609e3cdeb43",
   "metadata": {},
   "outputs": [
    {
     "data": {
      "text/plain": [
       "'\\n# This will convert 200 minutes to hours by dividing by 60 \\nminutes = 200\\nhours = minutes/60\\nprint(hours)\\n'"
      ]
     },
     "execution_count": 6,
     "metadata": {},
     "output_type": "execute_result"
    }
   ],
   "source": [
    "'''\n",
    "# This will convert 200 minutes to hours by dividing by 60 \n",
    "minutes = 200\n",
    "hours = minutes/60\n",
    "print(hours)\n",
    "'''\n"
   ]
  },
  {
   "cell_type": "markdown",
   "id": "80a2aabe-d93e-4952-8910-5c91ba2a69d1",
   "metadata": {},
   "source": [
    "'''\n",
    "\n",
    "## Author\n",
    "\n",
    "Angela Lambert\n",
    "'''"
   ]
  }
 ],
 "metadata": {
  "kernelspec": {
   "display_name": "anaconda-2022.05-py39",
   "language": "python",
   "name": "conda-env-anaconda-2022.05-py39-py"
  },
  "language_info": {
   "codemirror_mode": {
    "name": "ipython",
    "version": 3
   },
   "file_extension": ".py",
   "mimetype": "text/x-python",
   "name": "python",
   "nbconvert_exporter": "python",
   "pygments_lexer": "ipython3",
   "version": "3.9.12"
  }
 },
 "nbformat": 4,
 "nbformat_minor": 5
}
